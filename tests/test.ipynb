{
 "cells": [
  {
   "cell_type": "code",
   "execution_count": 1,
   "metadata": {},
   "outputs": [],
   "source": [
    "import numpy as np"
   ]
  },
  {
   "cell_type": "code",
   "execution_count": 5,
   "metadata": {},
   "outputs": [
    {
     "data": {
      "text/plain": [
       "array([[0.],\n",
       "       [0.],\n",
       "       [0.]])"
      ]
     },
     "execution_count": 5,
     "metadata": {},
     "output_type": "execute_result"
    }
   ],
   "source": [
    "np.zeros((3, 1))"
   ]
  },
  {
   "cell_type": "code",
   "execution_count": 4,
   "metadata": {},
   "outputs": [
    {
     "name": "stdout",
     "output_type": "stream",
     "text": [
      "[Taichi] Starting on arch=x64\n",
      "getA: 1000.000000\n",
      "getA: 121.000000\n"
     ]
    }
   ],
   "source": [
    "#This verified taichi class can call other class's function\n",
    "import taichi as ti\n",
    "ti.init(arch=ti.cpu)\n",
    "@ti.data_oriented\n",
    "class AClass:\n",
    "    def __init__(self):\n",
    "        self.a = ti.field(ti.f32, shape=())\n",
    "        self.a[None] = 1000\n",
    "    @ti.func\n",
    "    def getA(self):\n",
    "        return self.a[None]\n",
    "    \n",
    "    def setA(self, a):\n",
    "        self.a[None] = a\n",
    "\n",
    "@ti.data_oriented\n",
    "class BClass:\n",
    "    def __init__(self, aobj: AClass):\n",
    "        self.aobj = aobj\n",
    "    @ti.kernel\n",
    "    def work(self):\n",
    "        print(\"getA:\", self.aobj.getA())\n",
    "    \n",
    "a = AClass()\n",
    "b = BClass(a)\n",
    "b.work()\n",
    "a.setA(121)\n",
    "b.work()"
   ]
  },
  {
   "cell_type": "code",
   "execution_count": 3,
   "metadata": {},
   "outputs": [
    {
     "name": "stdout",
     "output_type": "stream",
     "text": [
      "[Taichi] Starting on arch=x64\n",
      "10\n"
     ]
    }
   ],
   "source": [
    "import taichi as ti\n",
    "import numpy as np\n",
    "@ti.kernel\n",
    "def test(n: ti.types.ndarray()):\n",
    "    print(n.shape[0])\n",
    "\n",
    "ti.init()\n",
    "test(np.zeros((10, 10)))"
   ]
  },
  {
   "cell_type": "code",
   "execution_count": null,
   "metadata": {},
   "outputs": [],
   "source": [
    "from "
   ]
  }
 ],
 "metadata": {
  "kernelspec": {
   "display_name": "Python 3.8.5 ('base')",
   "language": "python",
   "name": "python3"
  },
  "language_info": {
   "codemirror_mode": {
    "name": "ipython",
    "version": 3
   },
   "file_extension": ".py",
   "mimetype": "text/x-python",
   "name": "python",
   "nbconvert_exporter": "python",
   "pygments_lexer": "ipython3",
   "version": "3.8.5"
  },
  "orig_nbformat": 4,
  "vscode": {
   "interpreter": {
    "hash": "08ce52785f0fedc81003ce387e097a83d6cc9494681cd746006386992005bb71"
   }
  }
 },
 "nbformat": 4,
 "nbformat_minor": 2
}
